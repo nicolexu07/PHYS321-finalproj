{
 "cells": [
  {
   "cell_type": "code",
   "execution_count": null,
   "id": "d114081b",
   "metadata": {},
   "outputs": [],
   "source": [
    "import numpy as np \n",
    "import pandas as pd\n",
    "import matplotlib.pyplot as plt"
   ]
  },
  {
   "cell_type": "markdown",
   "id": "1e0135b0",
   "metadata": {},
   "source": [
    "First, we will generate our data (radial velocity values) using a simulation!"
   ]
  },
  {
   "cell_type": "markdown",
   "id": "0fe9d2c5",
   "metadata": {},
   "source": [
    "The radial velocity of a star in a binary system is given by:\n",
    "$$v(t) = \\kappa[cos(f+\\omega)+e \\cos\\omega + v_0$$\n",
    "where\n",
    "$$\\kappa =\\dfrac{(2\\pi G)^{1/3}m\\sin I}{T^{1/3}(M+m)^{2/3}\\sqrt{1-e^2}}$$\\\n",
    "$$tan(f/2)= \\sqrt{\\dfrac{1+e}{1-e}}\\tan(u/2)$$\\\n",
    "$$u-e\\sin u = \\dfrac{2\\pi}{T}(t-T)$$"
   ]
  },
  {
   "cell_type": "markdown",
   "id": "91834328",
   "metadata": {},
   "source": [
    "#### insert descr. of parameters!!!!!!!!! ####"
   ]
  },
  {
   "cell_type": "code",
   "execution_count": 1,
   "id": "c645e0ad",
   "metadata": {},
   "outputs": [],
   "source": [
    "from scipy.optimize import fsolve"
   ]
  },
  {
   "cell_type": "code",
   "execution_count": null,
   "id": "876211fa",
   "metadata": {},
   "outputs": [],
   "source": [
    "# function to use in scipy.optimize.fsolve\n",
    "def func(u, tau, T, e):\n",
    "    return u-e*np.sin(u)-((2*np.pi/T)*(t-T))\n",
    "\n",
    "\n",
    "\n",
    "def solve_for_u(tau, T, e):\n",
    "    # since esinu < u, using RHS of eqn as guess \n",
    "    u_guess = (2*np.pi/T)*(t-T)\n",
    "    root = fsolve(func, u_guess)\n",
    "    \n",
    "    return root \n",
    "\n",
    "\n",
    "\n",
    "def radial_velocity(t, m, M, T, I, e, v_0, omega, tau):\n",
    "    kappa = ((2*np.pi*G)**(1/3)*m*np.sin(I))/(T**(1/3)*(M+m)**(2/3)*np.sqrt(1-e**2))\n",
    "    u = solve_for_u(t, tau, T, e)\n",
    "    f = 2*arctan(np.sqrt((1+e)/(1-e))*tan(u/2))\n",
    "    rad_vel = kappa*(np.cos(f+omega)+e*np.cos(omega))+v_0\n",
    "    \n",
    "    return rad_vel"
   ]
  },
  {
   "cell_type": "markdown",
   "id": "8937db6c",
   "metadata": {},
   "source": [
    "For each parameter (like eccentricity) we have a range of possible values. These are as follows: \n",
    "\n",
    "########## insert ###########\n",
    "\n",
    "Now, for each parameter, we'll randomly select values from a uniform distribution of their possible values.\n",
    "\n"
   ]
  },
  {
   "cell_type": "code",
   "execution_count": null,
   "id": "f4a1f5b4",
   "metadata": {},
   "outputs": [],
   "source": [
    "num_sims = 50 \n",
    "\n",
    "m = np.random.uniform(0, 1, num_sims) # in solar masses\n",
    "M = np.random.uniform(0.072, 150, num_sims) # in solar masses\n",
    "e = np.random.uniform(0, 1, num_sims)\n",
    "I = np.random.uniform(-np.pi, np.pi, num_sims)\n",
    "omega = np.random.uniform(0, np.pi/2, num_sims)\n",
    "T = np.random.uniform(3282.3503, 3.46896e13, num_sims) # in seconds\n",
    "tau = np.random.uniform(3282.3503, 3.46896e13, num_sims) # in seconds\n",
    "v_0 = np.random.uniform(-1000, 1000, num_sims) # in m/s"
   ]
  },
  {
   "cell_type": "markdown",
   "id": "381cc32d",
   "metadata": {},
   "source": [
    "Now, for each set of parameter values, we can calculate the radial velocity using the radial_velocity function."
   ]
  },
  {
   "cell_type": "code",
   "execution_count": null,
   "id": "b14aabf2",
   "metadata": {},
   "outputs": [],
   "source": [
    "t = np.linspace(0, )"
   ]
  },
  {
   "cell_type": "code",
   "execution_count": null,
   "id": "6f5ed3d4",
   "metadata": {},
   "outputs": [],
   "source": [
    "Finally, we will add random Gaussian noise to each simulated radial velocity value. "
   ]
  },
  {
   "cell_type": "markdown",
   "id": "f124c322",
   "metadata": {},
   "source": [
    "Now, we will try to recover these parameter values using an MCMC!"
   ]
  }
 ],
 "metadata": {
  "kernelspec": {
   "display_name": "Python 3 (ipykernel)",
   "language": "python",
   "name": "python3"
  },
  "language_info": {
   "codemirror_mode": {
    "name": "ipython",
    "version": 3
   },
   "file_extension": ".py",
   "mimetype": "text/x-python",
   "name": "python",
   "nbconvert_exporter": "python",
   "pygments_lexer": "ipython3",
   "version": "3.9.7"
  }
 },
 "nbformat": 4,
 "nbformat_minor": 5
}
