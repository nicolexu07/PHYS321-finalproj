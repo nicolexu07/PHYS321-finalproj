{
 "cells": [
  {
   "cell_type": "code",
   "execution_count": 1,
   "id": "8310665f",
   "metadata": {},
   "outputs": [],
   "source": [
    "import pandas as pd\n",
    "import numpy as np\n",
    "from io import StringIO\n",
    "import re\n",
    "from scipy.optimize import fsolve\n",
    "from astropy import constants as const\n",
    "import emcee\n",
    "import corner"
   ]
  },
  {
   "cell_type": "code",
   "execution_count": 2,
   "id": "7778692a",
   "metadata": {},
   "outputs": [],
   "source": [
    "from tools import *\n",
    "%load_ext autoreload\n",
    "%autoreload 2"
   ]
  },
  {
   "cell_type": "markdown",
   "id": "b393ce57",
   "metadata": {},
   "source": [
    "First, we will generate our data (radial velocity values) using a simulation!"
   ]
  },
  {
   "cell_type": "markdown",
   "id": "8e3b691d",
   "metadata": {},
   "source": [
    "The radial velocity of a star in a binary system is given by:\n",
    "$$v(t) = \\kappa[cos(f+\\omega)+e \\cos\\omega + v_0$$\n",
    "where\n",
    "$$\\kappa =\\dfrac{(2\\pi G)^{1/3}m\\sin I}{T^{1/3}(M+m)^{2/3}\\sqrt{1-e^2}}$$\n",
    "\n",
    "$$tan(f/2)= \\sqrt{\\dfrac{1+e}{1-e}}\\tan(u/2)$$\n",
    "\n",
    "$$u-e\\sin u = \\dfrac{2\\pi}{T}(t-\\tau)$$"
   ]
  },
  {
   "cell_type": "markdown",
   "id": "04297665",
   "metadata": {},
   "source": [
    "#### insert descr. of parameters!!!!!!!!! ####"
   ]
  },
  {
   "cell_type": "markdown",
   "id": "2605da60",
   "metadata": {},
   "source": [
    "For each parameter (like eccentricity) we have a range of possible values. These are as follows: \n",
    "\n",
    "########## insert ###########\n",
    "\n",
    "Now, for each parameter, we'll randomly select values from a uniform distribution of their possible values.\n",
    "\n"
   ]
  },
  {
   "cell_type": "code",
   "execution_count": 65,
   "id": "a353334f",
   "metadata": {},
   "outputs": [],
   "source": [
    "def run_sim(sim_duration=3e8, num_data_points=100):\n",
    "    \"\"\" (int, int) -> (pd.DataFrame)\n",
    "    Arguments:\n",
    "        sim_duration: (int) time elapsed during simulation\n",
    "        num_data_points: (int) number of data points in simulation \n",
    "    Returns a pandas DataFrame with time and radial velocity\n",
    "    \"\"\"\n",
    "    m = np.random.uniform(0, 1) # in solar masses\n",
    "    M = np.random.uniform(0.072, 150) # in solar masses\n",
    "    e = np.random.uniform(0, 1)\n",
    "    I = np.random.uniform(-np.pi, np.pi)\n",
    "    omega = np.random.uniform(0, np.pi/2)\n",
    "    T = np.random.uniform(3282.3503, 3.46896e13) # in seconds\n",
    "    tau = np.random.uniform(3282.3503, 3.46896e13) # in seconds\n",
    "    v_0 = np.random.uniform(-1000, 1000) # in m/s\n",
    "    \n",
    "    t = np.linspace(0, sim_duration, num_data_points)\n",
    "    \n",
    "    radial_velocities = radial_velocity(t, m, M, T, I, e, v_0, omega, tau)\n",
    "    # adding random Gaussian noise\n",
    "    radial_velocities += np.random.normal(20, 10, len(t))\n",
    "    \n",
    "    data = {'Time':t, 'Radial Velocity':radial_velocities}\n",
    "    df = pd.DataFrame(data)\n",
    "    return df\n"
   ]
  },
  {
   "cell_type": "code",
   "execution_count": 77,
   "id": "1e768432",
   "metadata": {},
   "outputs": [],
   "source": [
    "class BinarySystem:\n",
    "    \"\"\"\n",
    "    Represents a Binary System\n",
    "    \"\"\"\n",
    "    def __init__(self, data=None, parameters=None, num_points=None):\n",
    "        \"\"\" (self, pd.DataFrame, np.array(), int)\n",
    "\n",
    "\n",
    "        If no inputs are given, then raise a ValueError. \n",
    "        If data is given, then use that data (assumes proper format).\n",
    "        If parameters and num_points are given, then generates num_points radial velocity data (adds Gaussian noise).\n",
    "        If only num_points is given, then generates random parameters and num_points radial velocity data (adds Gaussian noise).\n",
    "        \"\"\"\n",
    "        if (data is None) and (parameters is None) and (num_points is None):\n",
    "            raise ValueError('At least one initializing argument must be specified.')\n",
    "        elif (data is None) and (parameters is None):\n",
    "            # generating values for parameters\n",
    "            self.m = np.random.uniform(0, 1) # in solar masses\n",
    "            self.M = np.random.uniform(0.072, 150) # in solar masses\n",
    "            self.e = np.random.uniform(0, 1)\n",
    "            self.I = np.random.uniform(-np.pi, np.pi)\n",
    "            self.omega = np.random.uniform(0, np.pi/2)\n",
    "            self.T = np.random.uniform(3282.3503, 3.46896e13) # in seconds\n",
    "            self.tau = np.random.uniform(3282.3503, 3.46896e13) # in seconds\n",
    "            self.v_0 = np.random.uniform(-1000, 1000) # in m/s\n",
    "            \n",
    "            # generating radial velocity data from \n",
    "            t = np.linspace(0, 3e8, num_points)\n",
    "            self.time = t\n",
    "            radial_velocities = radial_velocity(t, self.m, self.M, self.T, \n",
    "                                                      self.I, self.e, self.v_0, self.omega, self.tau)\n",
    "            # adding random Gaussian noise\n",
    "            radial_velocities += np.random.normal(20, 10, len(t))\n",
    "            self.radial_velocity = radial_velocities\n",
    "            self.uncertainty = np.array([]) #how do we determine uncertainty when generating data?\n",
    "\n",
    "            self.sampler = None\n",
    "            self.samples = None\n",
    "        elif (data is None):\n",
    "            #generate random values from given parameters\n",
    "            #MORE TO DO\n",
    "\n",
    "            t = np.linspace(0, 3e8, num_points)\n",
    "            self.time = t\n",
    "            radial_velocities = radial_velocity(t, self.m, self.M, self.T, \n",
    "                                                      self.I, self.e, self.v_0, self.omega, self.tau)\n",
    "            # adding random Gaussian noise\n",
    "            radial_velocities += np.random.normal(20, 10, len(t))\n",
    "            self.radial_velocity = radial_velocities\n",
    "            self.uncertainty = np.array([]) #how do we determine uncertainty when generating data?\n",
    "        \n",
    "            self.sampler = None\n",
    "            self.samples = None\n",
    "        elif (num_points is None) and (parameters is None):\n",
    "            #no known parameters\n",
    "            self.m = None\n",
    "            self.M = None\n",
    "            self.e = None\n",
    "            self.I = None\n",
    "            self.omega = None\n",
    "            self.T = None\n",
    "            self.tau = None\n",
    "            self.v_0 = None\n",
    "            \n",
    "            #data is given \n",
    "            self.data = data #dataframe with all data\n",
    "            self.time = self.data[0]\n",
    "            self.radial_velocity = self.data[1]\n",
    "            self.uncertainty = self.data[2]\n",
    "\n",
    "            self.sampler = None\n",
    "            self.samples = None\n",
    "        else:\n",
    "            raise ValueError('Only certain combinations of inputs are accepted when defining a BinarySystem.')\n",
    "    \n",
    "\n",
    "    def truth(self):\n",
    "        \"\"\" (self) -> (np.array)\n",
    "        If the parameters of the system are known, then return these. \n",
    "        \"\"\"\n",
    "        ans = []\n",
    "        return np.array(ans)\n",
    "    \n",
    "    @staticmethod\n",
    "    def log_likelihood():\n",
    "        pass\n",
    "\n",
    "    @staticmethod\n",
    "    def log_prior():\n",
    "        pass\n",
    "\n",
    "    @staticmethod\n",
    "    def log_post():\n",
    "        pass\n",
    "    \n",
    "    def initialize_mcmc(self, nwalkers, ndim=7):\n",
    "        \"\"\"\n",
    "        Sets up \n",
    "        \"\"\"\n",
    "        initial_pos = np.array(np.random.uniform(0, 0), #mu\n",
    "                                np.random.uniform(0, 0))\n",
    "        self.sampler = emcee.EnsembleSampler(nwalkers, ndim, BinarySystem.log_post, args=(self.time, self.radial_velocity, self.uncertainty))\n",
    "    \n",
    "    def run_mcmc(self, num_iter, nwalkers=None, ndim=7)):\n",
    "        if (self.sampler is None) and (nwalkers is None):\n",
    "            raise ValueError('EnsembleSampler is not initialized, pass nwalkers as an argument or run self.initialize_mcmc.')\n",
    "        elif self.sampler is None: #need to initialize the mcmc first\n",
    "            self.initialize_mcmc(nwalkers, ndim)\n",
    "        \n",
    "        initial_pos = np.array(np.random.uniform(0, 0), #mu\n",
    "                                np.random.uniform(0, 0))\n",
    "        self.sampler.run_mcmc(initial_pos, num_iter, progress=True)"
   ]
  },
  {
   "cell_type": "markdown",
   "id": "a1e4a6d1",
   "metadata": {},
   "source": [
    "Finally, we will add random Gaussian noise to each simulated radial velocity value. "
   ]
  },
  {
   "cell_type": "markdown",
   "id": "40445aeb",
   "metadata": {},
   "source": [
    "Now, we will try to recover these parameter values using an MCMC!"
   ]
  }
 ],
 "metadata": {
  "kernelspec": {
   "display_name": "Python 3 (ipykernel)",
   "language": "python",
   "name": "python3"
  },
  "language_info": {
   "codemirror_mode": {
    "name": "ipython",
    "version": 3
   },
   "file_extension": ".py",
   "mimetype": "text/x-python",
   "name": "python",
   "nbconvert_exporter": "python",
   "pygments_lexer": "ipython3",
   "version": "3.8.5"
  }
 },
 "nbformat": 4,
 "nbformat_minor": 5
}
