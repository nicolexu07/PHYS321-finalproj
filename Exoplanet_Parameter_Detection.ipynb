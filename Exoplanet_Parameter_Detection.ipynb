{
 "cells": [
  {
   "cell_type": "code",
   "execution_count": 1,
   "id": "8310665f",
   "metadata": {},
   "outputs": [],
   "source": [
    "import pandas as pd\n",
    "import numpy as np\n",
    "from io import StringIO\n",
    "import re\n",
    "from scipy.optimize import fsolve\n",
    "from astropy import constants as const"
   ]
  },
  {
   "cell_type": "code",
   "execution_count": 2,
   "id": "7778692a",
   "metadata": {},
   "outputs": [],
   "source": [
    "import tools\n",
    "%load_ext autoreload\n",
    "%autoreload 2"
   ]
  },
  {
   "cell_type": "markdown",
   "id": "b393ce57",
   "metadata": {},
   "source": [
    "First, we will generate our data (radial velocity values) using a simulation!"
   ]
  },
  {
   "cell_type": "markdown",
   "id": "8e3b691d",
   "metadata": {},
   "source": [
    "The radial velocity of a star in a binary system is given by:\n",
    "$$v(t) = \\kappa[cos(f+\\omega)+e \\cos\\omega + v_0$$\n",
    "where\n",
    "$$\\kappa =\\dfrac{(2\\pi G)^{1/3}m\\sin I}{T^{1/3}(M+m)^{2/3}\\sqrt{1-e^2}}$$\n",
    "\n",
    "$$tan(f/2)= \\sqrt{\\dfrac{1+e}{1-e}}\\tan(u/2)$$\n",
    "\n",
    "$$u-e\\sin u = \\dfrac{2\\pi}{T}(t-\\tau)$$"
   ]
  },
  {
   "cell_type": "markdown",
   "id": "04297665",
   "metadata": {},
   "source": [
    "#### insert descr. of parameters!!!!!!!!! ####"
   ]
  },
  {
   "cell_type": "markdown",
   "id": "2605da60",
   "metadata": {},
   "source": [
    "For each parameter (like eccentricity) we have a range of possible values. These are as follows: \n",
    "\n",
    "########## insert ###########\n",
    "\n",
    "Now, for each parameter, we'll randomly select values from a uniform distribution of their possible values.\n",
    "\n"
   ]
  },
  {
   "cell_type": "code",
   "execution_count": 65,
   "id": "a353334f",
   "metadata": {},
   "outputs": [],
   "source": [
    "def run_sim(sim_duration=3e8, num_data_points=100):\n",
    "    \"\"\" (int, int) -> (pd.DataFrame)\n",
    "    Arguments:\n",
    "        sim_duration: (int) time elapsed during simulation\n",
    "        num_data_points: (int) number of data points in simulation \n",
    "    Returns a pandas DataFrame with time and radial velocity\n",
    "    \"\"\"\n",
    "    m = np.random.uniform(0, 1) # in solar masses\n",
    "    M = np.random.uniform(0.072, 150) # in solar masses\n",
    "    e = np.random.uniform(0, 1)\n",
    "    I = np.random.uniform(-np.pi, np.pi)\n",
    "    omega = np.random.uniform(0, np.pi/2)\n",
    "    T = np.random.uniform(3282.3503, 3.46896e13) # in seconds\n",
    "    tau = np.random.uniform(3282.3503, 3.46896e13) # in seconds\n",
    "    v_0 = np.random.uniform(-1000, 1000) # in m/s\n",
    "    \n",
    "    t = np.linspace(0, sim_duration, num_data_points)\n",
    "    \n",
    "    radial_velocities = tools.radial_velocity(t, m, M, T, I, e, v_0, omega, tau)\n",
    "    # adding random Gaussian noise\n",
    "    radial_velocities += np.random.normal(20, 10, len(t))\n",
    "    \n",
    "    data = {'Time':t, 'Radial Velocity':radial_velocities}\n",
    "    df = pd.DataFrame(data)\n",
    "    return df\n"
   ]
  },
  {
   "cell_type": "code",
   "execution_count": 77,
   "id": "1e768432",
   "metadata": {},
   "outputs": [],
   "source": [
    "class BinarySystem:\n",
    "    \"\"\"Represents a Binary System\n",
    "    \"\"\"\n",
    "    def __init__(self, time=None, radial_velocity=None):\n",
    "        # if no input radial velocity\n",
    "        # will generate with simulation\n",
    "        if radial_velocity == None:\n",
    "            # generating values for parameters\n",
    "            self.m = np.random.uniform(0, 1) # in solar masses\n",
    "            self.M = np.random.uniform(0.072, 150) # in solar masses\n",
    "            self.e = np.random.uniform(0, 1)\n",
    "            self.I = np.random.uniform(-np.pi, np.pi)\n",
    "            self.omega = np.random.uniform(0, np.pi/2)\n",
    "            self.T = np.random.uniform(3282.3503, 3.46896e13) # in seconds\n",
    "            self.tau = np.random.uniform(3282.3503, 3.46896e13) # in seconds\n",
    "            self.v_0 = np.random.uniform(-1000, 1000) # in m/s\n",
    "            \n",
    "            # generating radial velocity data from \n",
    "            t = np.linspace(0, 3e8, 100)\n",
    "            self.time = t\n",
    "            radial_velocities = tools.radial_velocity(t, self.m, self.M, self.T, \n",
    "                                                      self.I, self.e, self.v_0, self.omega, self.tau)\n",
    "            # adding random Gaussian noise\n",
    "        radial_velocities += np.random.normal(20, 10, len(t))\n",
    "            self.radial_velocity = radial_velocities\n",
    "        # if there is a radial velocity input, use input   \n",
    "        else:\n",
    "            self.time = time \n",
    "            self.radial_velocity = radial_velocity\n"
   ]
  },
  {
   "cell_type": "code",
   "execution_count": null,
   "id": "a1e4a6d1",
   "metadata": {},
   "outputs": [],
   "source": [
    "Finally, we will add random Gaussian noise to each simulated radial velocity value. "
   ]
  },
  {
   "cell_type": "markdown",
   "id": "40445aeb",
   "metadata": {},
   "source": [
    "Now, we will try to recover these parameter values using an MCMC!"
   ]
  }
 ],
 "metadata": {
  "kernelspec": {
   "display_name": "Python 3 (ipykernel)",
   "language": "python",
   "name": "python3"
  },
  "language_info": {
   "codemirror_mode": {
    "name": "ipython",
    "version": 3
   },
   "file_extension": ".py",
   "mimetype": "text/x-python",
   "name": "python",
   "nbconvert_exporter": "python",
   "pygments_lexer": "ipython3",
   "version": "3.9.7"
  }
 },
 "nbformat": 4,
 "nbformat_minor": 5
}
