{
 "cells": [
  {
   "cell_type": "code",
   "execution_count": 31,
   "id": "8310665f",
   "metadata": {},
   "outputs": [],
   "source": [
    "import pandas as pd\n",
    "import numpy as np\n",
    "from io import StringIO\n",
    "import re\n",
    "from scipy.optimize import fsolve"
   ]
  },
  {
   "cell_type": "code",
   "execution_count": 26,
   "id": "7778692a",
   "metadata": {},
   "outputs": [],
   "source": [
    "import tools"
   ]
  },
  {
   "cell_type": "markdown",
   "id": "b393ce57",
   "metadata": {},
   "source": [
    "First, we will generate our data (radial velocity values) using a simulation!"
   ]
  },
  {
   "cell_type": "markdown",
   "id": "8e3b691d",
   "metadata": {},
   "source": [
    "The radial velocity of a star in a binary system is given by:\n",
    "$$v(t) = \\kappa[cos(f+\\omega)+e \\cos\\omega + v_0$$\n",
    "where\n",
    "$$\\kappa =\\dfrac{(2\\pi G)^{1/3}m\\sin I}{T^{1/3}(M+m)^{2/3}\\sqrt{1-e^2}}$$\n",
    "\n",
    "$$tan(f/2)= \\sqrt{\\dfrac{1+e}{1-e}}\\tan(u/2)$$\n",
    "\n",
    "$$u-e\\sin u = \\dfrac{2\\pi}{T}(t-\\tau)$$"
   ]
  },
  {
   "cell_type": "markdown",
   "id": "04297665",
   "metadata": {},
   "source": [
    "#### insert descr. of parameters!!!!!!!!! ####"
   ]
  },
  {
   "cell_type": "markdown",
   "id": "2605da60",
   "metadata": {},
   "source": [
    "For each parameter (like eccentricity) we have a range of possible values. These are as follows: \n",
    "\n",
    "########## insert ###########\n",
    "\n",
    "Now, for each parameter, we'll randomly select values from a uniform distribution of their possible values.\n",
    "\n"
   ]
  },
  {
   "cell_type": "code",
   "execution_count": 32,
   "id": "47a4ea4a",
   "metadata": {},
   "outputs": [
    {
     "name": "stdout",
     "output_type": "stream",
     "text": [
      "               0     1     2\n",
      "0   0.000000e+00 -19.2   6.8\n",
      "1   2.506125e+07 -12.4   7.8\n",
      "2   4.789600e+07  32.0  12.0\n",
      "3   5.013307e+07   6.0  13.0\n",
      "4   5.547971e+07 -11.9   7.2\n",
      "5   6.004510e+07   6.4   8.5\n",
      "6   6.013393e+07  -5.7   6.2\n",
      "7   7.364500e+07  36.4   8.0\n",
      "8   7.882426e+07  34.5   7.3\n",
      "9   7.899599e+07  37.0  11.0\n",
      "10  8.089729e+07   4.2   8.0\n",
      "11  8.098233e+07  11.1   6.7\n",
      "12  8.614961e+07  -9.4   9.1\n",
      "13  8.856912e+07 -33.0  11.0\n",
      "14  8.864349e+07  -4.0  15.0\n",
      "15  9.400165e+07   6.5   8.5\n",
      "16  1.063011e+08  31.9   7.2\n",
      "17  1.089771e+08  17.7   6.9\n",
      "18  1.090652e+08   2.3   7.2\n",
      "19  1.119972e+08 -11.8   7.9\n",
      "20  1.120777e+08  -3.1   7.9\n",
      "21  1.122582e+08 -26.7   7.6\n",
      "22  1.140698e+08 -20.9   6.6\n",
      "23  1.141448e+08 -14.1   8.4\n",
      "24  1.143241e+08 -28.5   6.5\n",
      "25  1.171706e+08 -14.1   5.8\n",
      "26  1.172515e+08 -16.8   6.1\n",
      "27  1.173365e+08 -30.4   5.8\n",
      "28  1.174215e+08 -20.9   5.5\n",
      "29  1.375809e+08   7.1   6.1\n",
      "30  1.377543e+08  -9.7   6.5\n",
      "31  1.404313e+08 -30.4   6.9\n",
      "32  1.422394e+08 -23.6   6.7\n",
      "33  1.451641e+08 -18.2   6.3\n",
      "34  1.575899e+08   3.7   9.1\n",
      "35  1.687710e+08 -13.5   6.5\n",
      "36  1.750705e+08 -23.2   4.7\n",
      "37  1.754220e+08 -30.0  10.0\n",
      "38  1.827430e+08 -26.7   7.4\n",
      "39  1.880945e+08 -12.2   7.9\n",
      "40  1.910300e+08  20.8   9.2\n",
      "41  1.911125e+08  11.3   9.0\n",
      "42  2.060052e+08 -56.6   4.6\n",
      "43  2.084248e+08 -49.4   7.3\n",
      "44  2.085064e+08 -57.0   7.5\n",
      "45  2.086677e+08 -51.5   5.4\n",
      "46  2.116955e+08 -52.4   7.1\n",
      "47  2.314116e+08 -44.6   3.8\n",
      "48  2.320162e+08 -50.1   4.2\n",
      "49  2.366792e+08 -68.5   3.6\n",
      "50  2.371906e+08 -59.7   3.0\n",
      "51  2.374545e+08 -55.9   3.2\n",
      "52  2.420270e+08 -92.3   3.6\n"
     ]
    }
   ],
   "source": [
    "#### i just want to see what the data looks like pls delete ###\n",
    "\n",
    "def get_data(filename, path='data/'):\n",
    "    \"\"\" (str, str) -> (pd.DataFrame)\n",
    "    Takes a file name as input \n",
    "    Returns a pandas dataframe with 3 cols corresponding\n",
    "    to days, radial velocity, and uncertainty\n",
    "    Converts Julian days to seconds setting the earliest time as 0\n",
    "    \"\"\"\n",
    "    lines = \"0,1,2\\n\" + \"\".join([re.sub(r\"\\s+\", ',', line)[1::]+'\\n' for line in open(f'./{path}{filename}') \n",
    "                     if not (line.startswith('\\ '[0]) or line.startswith('|'))])\n",
    "    #print(lines)\n",
    "    df = pd.read_csv(StringIO(lines), sep=',', index_col=False)\n",
    "    df = df.rename(columns={'0':0, '1':1, '2':2})\n",
    "    df[0] = (df[0]-min(df[0]))*86400\n",
    "    return df\n",
    "\n",
    "print(get_data('UID_0000522_RVC_001.tbl'))"
   ]
  },
  {
   "cell_type": "code",
   "execution_count": 3,
   "id": "d99184ac",
   "metadata": {},
   "outputs": [],
   "source": [
    "#### prob delte ####\n",
    "def run_sim():\n",
    "    \"\"\" () -> (pd.DataFrame)\n",
    "    \n",
    "    Returns a pandas DataFrame with time, radial velocity, \n",
    "    and uncertainty as cols\n",
    "    \"\"\"\n",
    "    m = np.random.uniform(0, 1, num_sims) # in solar masses\n",
    "    M = np.random.uniform(0.072, 150, num_sims) # in solar masses\n",
    "    e = np.random.uniform(0, 1, num_sims)\n",
    "    I = np.random.uniform(-np.pi, np.pi, num_sims)\n",
    "    omega = np.random.uniform(0, np.pi/2, num_sims)\n",
    "    T = np.random.uniform(3282.3503, 3.46896e13, num_sims) # in seconds\n",
    "    tau = np.random.uniform(3282.3503, 3.46896e13, num_sims) # in seconds\n",
    "    v_0 = np.random.uniform(-1000, 1000, num_sims) # in m/s"
   ]
  },
  {
   "cell_type": "code",
   "execution_count": null,
   "id": "5bd8edc3",
   "metadata": {},
   "outputs": [],
   "source": [
    "def run_sim():\n",
    "    \"\"\" () -> (pd.DataFrame)\n",
    "    \n",
    "    Returns a pandas DataFrame with time, radial velocity, \n",
    "    and uncertainty as cols\n",
    "    \"\"\"\n",
    "    m = np.random.uniform(0, 1) # in solar masses\n",
    "    M = np.random.uniform(0.072, 150) # in solar masses\n",
    "    e = np.random.uniform(0, 1)\n",
    "    I = np.random.uniform(-np.pi, np.pi)\n",
    "    omega = np.random.uniform(0, np.pi/2)\n",
    "    T = np.random.uniform(3282.3503, 3.46896e13) # in seconds\n",
    "    tau = np.random.uniform(3282.3503, 3.46896e13) # in seconds\n",
    "    v_0 = np.random.uniform(-1000, 1000) # in m/s\n",
    "    \n",
    "    t = np.linspace(0, 3e8, 50)\n",
    "    \n",
    "    radial_velocity = radial_velocity(t, m, M, T, I, e, v_0, omega, tau):\n"
   ]
  },
  {
   "cell_type": "code",
   "execution_count": null,
   "id": "b1ac9e64",
   "metadata": {},
   "outputs": [],
   "source": [
    "class BinarySystem:\n",
    "    \"\"\"Represents a Binary System\n",
    "    \"\"\"\n",
    "    def __init__(self, radial_velocity):\n",
    "        self.\n",
    "            "
   ]
  },
  {
   "cell_type": "markdown",
   "id": "469cb60a",
   "metadata": {},
   "source": [
    "Now, for each set of parameter values, we can calculate the radial velocity using the radial_velocity function."
   ]
  },
  {
   "cell_type": "code",
   "execution_count": 33,
   "id": "15b5c2ba",
   "metadata": {},
   "outputs": [],
   "source": [
    "t = np.linspace(0, 3e8, 50)\n",
    "\n"
   ]
  },
  {
   "cell_type": "code",
   "execution_count": null,
   "id": "a1e4a6d1",
   "metadata": {},
   "outputs": [],
   "source": [
    "Finally, we will add random Gaussian noise to each simulated radial velocity value. "
   ]
  },
  {
   "cell_type": "markdown",
   "id": "40445aeb",
   "metadata": {},
   "source": [
    "Now, we will try to recover these parameter values using an MCMC!"
   ]
  }
 ],
 "metadata": {
  "kernelspec": {
   "display_name": "Python 3 (ipykernel)",
   "language": "python",
   "name": "python3"
  },
  "language_info": {
   "codemirror_mode": {
    "name": "ipython",
    "version": 3
   },
   "file_extension": ".py",
   "mimetype": "text/x-python",
   "name": "python",
   "nbconvert_exporter": "python",
   "pygments_lexer": "ipython3",
   "version": "3.9.7"
  }
 },
 "nbformat": 4,
 "nbformat_minor": 5
}
