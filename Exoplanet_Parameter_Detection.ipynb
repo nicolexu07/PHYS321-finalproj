{
 "cells": [
  {
   "cell_type": "code",
   "execution_count": 1,
   "id": "8310665f",
   "metadata": {},
   "outputs": [],
   "source": [
    "import numpy as np \n",
    "import pandas as pd\n",
    "import matplotlib.pyplot as plt\n",
    "import tools\n",
    "import os"
   ]
  },
  {
   "cell_type": "code",
   "execution_count": 4,
   "metadata": {},
   "outputs": [
    {
     "name": "stdout",
     "output_type": "stream",
     "text": [
      "HD166\n"
     ]
    }
   ],
   "source": [
    "print(tools.get_star_id('UID_0000544_RVC_001.tbl'))"
   ]
  },
  {
   "cell_type": "code",
   "execution_count": null,
   "id": "5bea4471",
   "metadata": {},
   "outputs": [],
   "source": [
    "G = 6.67408e-11 #m**3/kg/s**2 gravitational constant\n",
    "solar_mass = 1.989e30"
   ]
  },
  {
   "cell_type": "markdown",
   "id": "b393ce57",
   "metadata": {},
   "source": [
    "First, we will generate our data (radial velocity values) using a simulation!"
   ]
  },
  {
   "cell_type": "markdown",
   "id": "8e3b691d",
   "metadata": {},
   "source": [
    "The radial velocity of a star in a binary system is given by:\n",
    "$$v(t) = \\kappa[cos(f+\\omega)+e \\cos\\omega + v_0$$\n",
    "where\n",
    "$$\\kappa =\\dfrac{(2\\pi G)^{1/3}m\\sin I}{T^{1/3}(M+m)^{2/3}\\sqrt{1-e^2}}$$\n",
    "\n",
    "$$tan(f/2)= \\sqrt{\\dfrac{1+e}{1-e}}\\tan(u/2)$$\n",
    "\n",
    "$$u-e\\sin u = \\dfrac{2\\pi}{T}(t-\\tau)$$"
   ]
  },
  {
   "cell_type": "markdown",
   "id": "04297665",
   "metadata": {},
   "source": [
    "#### insert descr. of parameters!!!!!!!!! ####"
   ]
  },
  {
   "cell_type": "markdown",
   "id": "2605da60",
   "metadata": {},
   "source": [
    "For each parameter (like eccentricity) we have a range of possible values. These are as follows: \n",
    "\n",
    "########## insert ###########\n",
    "\n",
    "Now, for each parameter, we'll randomly select values from a uniform distribution of their possible values.\n",
    "\n"
   ]
  },
  {
   "cell_type": "code",
   "execution_count": null,
   "id": "d99184ac",
   "metadata": {},
   "outputs": [],
   "source": [
    "num_sims = 50 \n",
    "\n",
    "m = np.random.uniform(0, 1, num_sims) # in solar masses\n",
    "M = np.random.uniform(0.072, 150, num_sims) # in solar masses\n",
    "e = np.random.uniform(0, 1, num_sims)\n",
    "I = np.random.uniform(-np.pi, np.pi, num_sims)\n",
    "omega = np.random.uniform(0, np.pi/2, num_sims)\n",
    "T = np.random.uniform(3282.3503, 3.46896e13, num_sims) # in seconds\n",
    "tau = np.random.uniform(3282.3503, 3.46896e13, num_sims) # in seconds\n",
    "v_0 = np.random.uniform(-1000, 1000, num_sims) # in m/s"
   ]
  },
  {
   "cell_type": "markdown",
   "id": "469cb60a",
   "metadata": {},
   "source": [
    "Now, for each set of parameter values, we can calculate the radial velocity using the radial_velocity function."
   ]
  },
  {
   "cell_type": "code",
   "execution_count": null,
   "id": "15b5c2ba",
   "metadata": {},
   "outputs": [],
   "source": [
    "t = np.linspace(0, )"
   ]
  },
  {
   "cell_type": "code",
   "execution_count": null,
   "id": "a1e4a6d1",
   "metadata": {},
   "outputs": [],
   "source": [
    "Finally, we will add random Gaussian noise to each simulated radial velocity value. "
   ]
  },
  {
   "cell_type": "markdown",
   "id": "40445aeb",
   "metadata": {},
   "source": [
    "Now, we will try to recover these parameter values using an MCMC!"
   ]
  }
 ],
 "metadata": {
  "kernelspec": {
   "display_name": "Python 3 (ipykernel)",
   "language": "python",
   "name": "python3"
  },
  "language_info": {
   "codemirror_mode": {
    "name": "ipython",
    "version": 3
   },
   "file_extension": ".py",
   "mimetype": "text/x-python",
   "name": "python",
   "nbconvert_exporter": "python",
   "pygments_lexer": "ipython3",
   "version": "3.8.5"
  }
 },
 "nbformat": 4,
 "nbformat_minor": 5
}
